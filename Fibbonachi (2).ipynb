{
 "cells": [
  {
   "cell_type": "code",
   "execution_count": 3,
   "metadata": {},
   "outputs": [
    {
     "name": "stdout",
     "output_type": "stream",
     "text": [
      "[1, 2, 3, 5, 8, 13, 21, 34, 55, 89]\n"
     ]
    }
   ],
   "source": [
    "import itertools\n",
    "class Fibonacchi:    \n",
    "\n",
    "    class _Fibonacci_iter:\n",
    "        def __init__(self):\n",
    "            self.fib1 = 1\n",
    "            self.fib2 = 1\n",
    "        \n",
    "        def __next__(self):\n",
    "            fib = self.fib1\n",
    "            self.fib1 = self.fib2\n",
    "            self.fib2 = fib + self.fib2\n",
    "            fib = self.fib1\n",
    "            return fib\n",
    "\n",
    "    def __iter__(self):\n",
    "        return Fibonacchi._Fibonacci_iter()\n",
    "    \n",
    "print(list(itertools.islice(Fibonacchi(), 10)))"
   ]
  },
  {
   "cell_type": "code",
   "execution_count": null,
   "metadata": {},
   "outputs": [],
   "source": []
  }
 ],
 "metadata": {
  "kernelspec": {
   "display_name": "Python 3",
   "language": "python",
   "name": "python3"
  },
  "language_info": {
   "codemirror_mode": {
    "name": "ipython",
    "version": 3
   },
   "file_extension": ".py",
   "mimetype": "text/x-python",
   "name": "python",
   "nbconvert_exporter": "python",
   "pygments_lexer": "ipython3",
   "version": "3.8.5"
  }
 },
 "nbformat": 4,
 "nbformat_minor": 4
}
