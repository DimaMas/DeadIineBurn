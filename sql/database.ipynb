{
 "metadata": {
  "language_info": {
   "codemirror_mode": {
    "name": "ipython",
    "version": 3
   },
   "file_extension": ".py",
   "mimetype": "text/x-python",
   "name": "python",
   "nbconvert_exporter": "python",
   "pygments_lexer": "ipython3",
   "version": "3.9.5"
  },
  "orig_nbformat": 2,
  "kernelspec": {
   "name": "python395jvsc74a57bd0a720372e42f268ab8d74f55b210d46a0e63fe21e3ee086464adce382e14e480d",
   "display_name": "Python 3.9.5 64-bit"
  }
 },
 "nbformat": 4,
 "nbformat_minor": 2,
 "cells": [
  {
   "cell_type": "code",
   "execution_count": 68,
   "metadata": {},
   "outputs": [],
   "source": [
    "import sqlite3 as dbms\n",
    "\n",
    "conn = dbms.connect(\"students.sqlite3\")  # Как оригинально!\n",
    "cursor = conn.cursor()"
   ]
  },
  {
   "cell_type": "code",
   "execution_count": 69,
   "metadata": {},
   "outputs": [],
   "source": [
    "with open(\"11.drop_ddl.sql\", 'r', encoding='utf-8') as f:\n",
    "    drop_ddl = f.read()\n",
    "with open(\"11.create_ddl.sql\", 'r', encoding='utf-8') as f:\n",
    "    create_ddl = f.read()"
   ]
  },
  {
   "cell_type": "code",
   "execution_count": 70,
   "metadata": {},
   "outputs": [],
   "source": [
    "if True:\n",
    "    cursor.executescript(drop_ddl)\n",
    "    conn.commit()\n",
    "if True:\n",
    "    cursor.executescript(create_ddl)\n",
    "    conn.commit()"
   ]
  },
  {
   "cell_type": "code",
   "execution_count": 71,
   "metadata": {},
   "outputs": [],
   "source": [
    "import sqlalchemy\n",
    "from sqlalchemy import Table, Column, Integer, String, MetaData, ForeignKey\n",
    "from sqlalchemy.orm import sessionmaker, relationship\n",
    "from sqlalchemy.ext.declarative import declarative_base\n",
    "\n",
    "DeclBase = declarative_base()\n",
    "\n",
    "engine = sqlalchemy.create_engine('sqlite:///students.sqlite3', echo=False)  # echo=True для логгинга\n",
    "Session = sessionmaker(bind=engine)\n",
    "session = Session()"
   ]
  },
  {
   "cell_type": "code",
   "execution_count": 72,
   "metadata": {},
   "outputs": [],
   "source": [
    "null=True\n",
    "class Program(DeclBase):\n",
    "    __tablename__ = 'programs'\n",
    "    id = Column(Integer, primary_key=True)\n",
    "    name = Column(String)\n",
    "\n",
    "    students = relationship(\"Student\", backref=\"program\")\n",
    "    programs_courses = relationship(\"Program_course\", backref=\"program\")\n",
    "\n",
    "    def __init__(self, name):\n",
    "        self.name = name\n",
    "\n",
    "class Student(DeclBase):\n",
    "    __tablename__ = 'students'\n",
    "    id = Column(Integer, primary_key=True)\n",
    "    card = Column(String)\n",
    "    surname = Column(String)\n",
    "    name = Column(String)\n",
    "    patronymic = Column(String)\n",
    "    \n",
    "    program_id = Column(Integer, ForeignKey('programs.id'))\n",
    "    marks = relationship(\"Mark\", backref=\"student\")\n",
    "    \n",
    "    \n",
    "    def __init__(self, card, surname, name, patronymic, program):\n",
    "        self.card = card\n",
    "        self.surname = surname\n",
    "        self.name = name\n",
    "        self.patronymic = patronymic\n",
    "        self.program = program\n",
    "        \n",
    "class Course(DeclBase):\n",
    "    __tablename__ = 'courses'\n",
    "    id = Column(Integer, primary_key=True)\n",
    "    name = Column(String)\n",
    "    \n",
    "    programs_courses = relationship(\"Program_course\", backref=\"course\")\n",
    "    marks = relationship(\"Mark\", backref=\"course\")\n",
    "    \n",
    "    def __init__(self, name):\n",
    "        self.name = name\n",
    "        \n",
    "class Program_course(DeclBase):\n",
    "    __tablename__ = 'programs_courses'\n",
    "    semester_number = Column(Integer, primary_key=True)\n",
    "    \n",
    "    course_id = Column(Integer, ForeignKey('courses.id'), primary_key=True)\n",
    "    program_id = Column(Integer, ForeignKey('programs.id'), primary_key=True)\n",
    "    \n",
    "    def __init__(self, semester_number, course, program):\n",
    "        self.semester_number = semester_number\n",
    "        self.course = course\n",
    "        self.program = program\n",
    "        \n",
    "class Mark(DeclBase):\n",
    "    __tablename__ = 'marks'\n",
    "    mark = Column(Integer)\n",
    "    \n",
    "    course_id = Column(Integer, ForeignKey('courses.id'), primary_key=True)\n",
    "    student_id = Column(Integer, ForeignKey('students.id'), primary_key=True)\n",
    "    \n",
    "    def __init__(self, mark, student, course):\n",
    "        self.mark = mark\n",
    "        self.student = student\n",
    "        self.course = course"
   ]
  },
  {
   "cell_type": "code",
   "execution_count": 73,
   "metadata": {},
   "outputs": [],
   "source": [
    "se_1 = Program(\"Физическая физика\")\n",
    "se_2 = Program(\"Программерская прога\")\n",
    "\n",
    "st1 = Student(\"002004\", \"Алексеев\", \"Алексей\", \"Алексеевич\", se_1)\n",
    "st2 = Student(\"002003\", \"Гурулева\", \"Наталья\", \"Олеговна\", se_1)\n",
    "st3 = Student(\"022222\", \"Масютин\", \"Алеша\", \"Лексеевич\", se_2)\n",
    "st4 = Student(\"002005\", \"Алексеев\", \"Алексей\", \"Алексеевич\", se_2)\n",
    "c1 = Course(\"БЖД\")\n",
    "c2 = Course(\"Философия\")\n",
    "pc1 = Program_course(\"2\", c1, se_1)\n",
    "m1_1 = Mark(\"5\", st1, c1)\n",
    "m1_2 = Mark(\"7\", st1, c2)\n",
    "m2_1 = Mark(\"8\", st2, c1)\n",
    "m2_2 = Mark(\"10\", st2, c2)\n",
    "m3_1 = Mark(\"10\", st3, c1)\n",
    "m3_2 = Mark(\"5\", st3, c2)\n",
    "m4_1 = Mark(\"6\", st4, c1)\n",
    "m4_2 = Mark(\"6\", st4, c2)\n",
    "\n",
    "\n",
    "\n",
    "\n",
    "\n",
    "session.add_all([st1, st2, st3, c1, c2, pc1, m1_1, m1_2, m2_1, m2_2, m3_1, m3_2])\n",
    "session.add_all([st4, m4_1, m4_2]) \n",
    "session.commit()"
   ]
  },
  {
   "cell_type": "code",
   "execution_count": 74,
   "metadata": {},
   "outputs": [
    {
     "output_type": "stream",
     "name": "stdout",
     "text": [
      "Программы и студенты\nПрограмма:  Физическая физика\n-  Алексеев Алексей Алексеевич\n-  Гурулева Наталья Олеговна\nНомер семестра: 2\nПрограмма:  Программерская прога\n-  Масютин Алеша Лексеевич\n-  Алексеев Алексей Алексеевич\nСтудент:  Алексеев\n-  5  \n-  7  \nСтудент:  Гурулева\n-  8  \n-  10  \nСтудент:  Масютин\n-  5  \n-  10  \nСтудент:  Алексеев\n-  6  \n-  6  \n"
     ]
    }
   ],
   "source": [
    "import sys\n",
    "\n",
    "print(\"Программы и студенты\")\n",
    "for p in session.query(Program):\n",
    "    print(\"Программа: \", p.name)\n",
    "    for s in p.students:\n",
    "        print(\"- \",s.surname, s.name, s.patronymic)\n",
    "    for s in p.programs_courses:\n",
    "        print(\"Номер семестра:\", s.semester_number)\n",
    "for i in session.query(Program):\n",
    "    for t in i.programs_courses:\n",
    "        for p in session.query(Student):\n",
    "            print(\"Студент: \", p.surname)\n",
    "            for s in p.marks:\n",
    "                print(\"- \", s.mark, \" \")"
   ]
  }
 ]
}