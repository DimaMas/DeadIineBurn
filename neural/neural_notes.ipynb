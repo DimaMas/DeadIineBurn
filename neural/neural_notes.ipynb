{
 "metadata": {
  "language_info": {
   "codemirror_mode": {
    "name": "ipython",
    "version": 3
   },
   "file_extension": ".py",
   "mimetype": "text/x-python",
   "name": "python",
   "nbconvert_exporter": "python",
   "pygments_lexer": "ipython3",
   "version": 3
  },
  "orig_nbformat": 2
 },
 "nbformat": 4,
 "nbformat_minor": 2,
 "cells": [
  {
   "cell_type": "code",
   "execution_count": null,
   "metadata": {},
   "outputs": [],
   "source": [
    "import os\n",
    "import numpy as np\n",
    "import math\n",
    "from tensorflow.keras import models, layers"
   ]
  },
  {
   "cell_type": "code",
   "execution_count": null,
   "metadata": {},
   "outputs": [],
   "source": [
    "XY = np.random.random((1_000_000, 2)).astype(np.float32) * 4.0 - 2.0\r\n",
    "\r\n",
    "Z = np.array([ 1 if ((y + 1 >= 0) and (2*x - y + 1 >= 0) and (2*x + y - 1 <= 0)) or\r\n",
    "                ((y - 1 <= 0) and (2*x + y + 1 >= 0) and (2*x - y - 1 <= 0)) else 0\r\n",
    "  for [x, y] in XY], dtype=np.float32)"
   ]
  },
  {
   "cell_type": "code",
   "execution_count": null,
   "metadata": {},
   "outputs": [],
   "source": [
    "model = models.Sequential([\n",
    "    layers.InputLayer(input_shape=(2,)),\n",
    "    layers.Dense(100, activation='sigmoid', use_bias=True),\n",
    "    layers.Dense(20, activation='sigmoid', use_bias=True),\n",
    "    layers.Dense(1, activation='sigmoid', use_bias=False)\n",
    "])\n",
    "\n",
    "model.compile(\n",
    "    loss='mean_squared_error',\n",
    "    optimizer='adam',\n",
    "    metrics='accuracy'\n",
    ")"
   ]
  },
  {
   "cell_type": "code",
   "execution_count": null,
   "metadata": {},
   "outputs": [],
   "source": [
    "if os.path.isfile(\"smart_duckling_colab.h5\"):\n",
    "    print(\"Loading existing synapses...\")\n",
    "    model.load_weights(\"smart_duckling_colab.h5\")\n",
    "else:\n",
    "    print(\"Training the duckling...\")\n",
    "    model.fit(\n",
    "        XY, Z,\n",
    "        epochs=1000,\n",
    "        batch_size=1000,\n",
    "        use_multiprocessing=True,\n",
    "        verbose=False\n",
    "    )\n",
    "    model.save(\"smart_duckling_colab.h5\")\n",
    "\n",
    "print(\"Done,\", model.evaluate(XY, Z))"
   ]
  },
  {
   "cell_type": "code",
   "execution_count": null,
   "metadata": {},
   "outputs": [],
   "source": [
    "%matplotlib inline\n",
    "\n",
    "import matplotlib.pyplot as plt\n",
    "\n",
    "plt.axis('equal')\n",
    "\n",
    "c = np.linspace(-2,2,50)\n",
    "\n",
    "# https://stackoverflow.com/a/11144716/539470 =)\n",
    "XY = np.transpose([np.tile(c, len(c)), np.repeat(c, len(c))])\n",
    "\n",
    "Z = model.predict(XY)\n",
    "\n",
    "for (x, y), z in zip(XY, Z):\n",
    "    plt.scatter(x, y, c='red' if z[0] >= 0.5 else 'green', marker='.')\n",
    "\n",
    "plt.show()"
   ]
  }
 ]
}
