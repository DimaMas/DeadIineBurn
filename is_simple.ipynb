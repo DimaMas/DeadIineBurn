{
 "cells": [
  {
   "cell_type": "code",
   "execution_count": null,
   "metadata": {},
   "outputs": [],
   "source": [
    "import math\n",
    "import random\n",
    "\n",
    "def is_simple(a: 'int') -> 'bool':\n",
    "    flag = 1\n",
    "    for i in range(2, int(a**(0.5))):\n",
    "        if (a % i == 0):\n",
    "            flag = 0\n",
    "    return flag\n",
    "\n",
    "def is_simple_ferm(a, count):\n",
    "        for i in range(count):\n",
    "            rd = random.randint(1, a - 1)\n",
    "            if (rd ** (a - 1) % a != 1):\n",
    "                return False\n",
    "        return True\n",
    "\n",
    "\n",
    "# На самом деле можно было написать так:\n",
    "# is_simple_cached = functools.lru_cache()(is_simple)\n",
    "# Всем понятно, почему две пары скобок?\n",
    "\n",
    "#%timeit is_simple(500)\n",
    "#%timeit is_simple_cached(500)\n",
    "# Впечатляет разница в скорости?\n",
    "#print(is_simple_cached(500))\n",
    "\n",
    "#print(is_simple(6601))\n",
    "#print(is_simple_ferm(6601, 1000))\n",
    "\n",
    "%timeit is_simple(550)\n",
    "%timeit is_simple_ferm(550, 1000)\n",
    "print(is_simple_ferm(550))"
   ]
  },
  {
   "cell_type": "code",
   "execution_count": null,
   "metadata": {},
   "outputs": [],
   "source": []
  },
  {
   "cell_type": "code",
   "execution_count": null,
   "metadata": {},
   "outputs": [],
   "source": []
  },
  {
   "cell_type": "code",
   "execution_count": null,
   "metadata": {},
   "outputs": [],
   "source": []
  },
  {
   "cell_type": "code",
   "execution_count": null,
   "metadata": {},
   "outputs": [],
   "source": []
  }
 ],
 "metadata": {
  "kernelspec": {
   "display_name": "Python 3",
   "language": "python",
   "name": "python3"
  },
  "language_info": {
   "codemirror_mode": {
    "name": "ipython",
    "version": 3
   },
   "file_extension": ".py",
   "mimetype": "text/x-python",
   "name": "python",
   "nbconvert_exporter": "python",
   "pygments_lexer": "ipython3",
   "version": "3.8.5"
  }
 },
 "nbformat": 4,
 "nbformat_minor": 4
}
